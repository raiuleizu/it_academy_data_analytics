{
 "cells": [
  {
   "cell_type": "markdown",
   "id": "bfae1ee3",
   "metadata": {},
   "source": [
    "NIVEL 1\n",
    "- Exercise 1\n",
    "  - Body Mass Index (BMI) Calculator\n",
    "\n",
    "Write a function that calculates the BMI entered by the user; that is, whoever runs it must input their data. You can find more information about its calculation at:\n",
    "\n",
    "-> Body Mass Index (BMI): What it is and how it is calculated.\n",
    "\n",
    "The function should classify the result into its respective categories."
   ]
  },
  {
   "cell_type": "code",
   "execution_count": 3,
   "id": "282ff4d9",
   "metadata": {},
   "outputs": [
    {
     "name": "stdout",
     "output_type": "stream",
     "text": [
      "Para el peso de 89.5kg, y altura de 1.86m. \n",
      "Tu IMC es: 25.87\n",
      "Estás en sobrepeso.\n"
     ]
    }
   ],
   "source": [
    "def bmi_calculator():\n",
    "\n",
    "    peso = float(input('Escribe tu peso en kg: '))\n",
    "    altura = float(input('Escribe tu altura en metros: '))\n",
    "\n",
    "    imc = peso / (altura ** 2)\n",
    "    resultados = []\n",
    "    resultados.append(f'Para el peso de {peso}kg, y altura de {altura}m. \\nTu IMC es: {imc:.2f}')\n",
    "\n",
    "    if imc < 18.5:\n",
    "        resultados.append('Peso bajo.')\n",
    "    elif imc <= 25:\n",
    "        resultados.append('Tienes un peso normal.')\n",
    "    elif imc <= 29.9:\n",
    "        resultados.append('Estás en sobrepeso.')\n",
    "    else:\n",
    "        resultados.append('Estás en obesidad')\n",
    "\n",
    "    return resultados\n",
    "\n",
    "\n",
    "resultado = bmi_calculator()\n",
    "for c in resultado:\n",
    "    print(c)\n"
   ]
  },
  {
   "cell_type": "markdown",
   "id": "d03dafdf",
   "metadata": {},
   "source": [
    "- Exercise 2\n",
    "   - Temperature Converter\n",
    "\n",
    "There are several temperature units used in different contexts and regions. The most common are Celsius (°C), Fahrenheit (°F), and Kelvin (K). There are also other units such as Rankine (°Ra) and Réaumur (°Re). Select at least two converters, so that when a temperature is entered, it returns at least two conversions."
   ]
  },
  {
   "cell_type": "code",
   "execution_count": 4,
   "id": "6a60ab38",
   "metadata": {},
   "outputs": [
    {
     "name": "stdout",
     "output_type": "stream",
     "text": [
      "La temperatura 34.0°C, en Farenheit es, 93.2F \n",
      "En Kelvin es 307.15K\n"
     ]
    }
   ],
   "source": [
    "def temp_converter():\n",
    "\n",
    "    c = float(input('Escribe la temperatura em Celsius:'))\n",
    "    f = c * 9 / 5 + 32\n",
    "    k = c + 273.15\n",
    "    print(f'La temperatura {c}°C, en Farenheit es, {f}F \\nEn Kelvin es {k}K')\n",
    "\n",
    "temp_converter()"
   ]
  },
  {
   "cell_type": "markdown",
   "id": "35010cea",
   "metadata": {},
   "source": [
    "- Exercise 3\n",
    "  - Word Counter for a Text\n",
    "\n",
    "Write a function that, given a text, displays how many times each word appears."
   ]
  },
  {
   "cell_type": "code",
   "execution_count": 12,
   "id": "6be40793",
   "metadata": {},
   "outputs": [
    {
     "name": "stdout",
     "output_type": "stream",
     "text": [
      "teste : 2\n",
      "você : 2\n",
      "vai : 1\n",
      "na : 1\n",
      "Texto original: teste....teste.? você# você$    vai na\n"
     ]
    }
   ],
   "source": [
    "#import string pode ser usado aqui para facilitar tudo.\n",
    "def conta_texto():\n",
    "    texto_inicial = input('Escribe un texto: ')\n",
    "    texto = texto_inicial.lower().replace('\\n', ' ')\n",
    "    pontuacao = \".,!¡?¿;:'/\\\"()[]{}-_'%$#@*+=&|\"\n",
    "\n",
    "    texto_sem_pontuacao = ''\n",
    "    for c in texto:\n",
    "        if c not in pontuacao:\n",
    "            texto_sem_pontuacao += c\n",
    "        else:\n",
    "            texto_sem_pontuacao += ' '\n",
    "\n",
    "    pedacos = texto_sem_pontuacao.split()\n",
    "    contador = {}\n",
    "\n",
    "    for palavra in pedacos:\n",
    "        if palavra == '':\n",
    "            continue\n",
    "        if palavra in contador:\n",
    "            contador[palavra] += 1\n",
    "        else:\n",
    "            contador[palavra] = 1\n",
    "\n",
    "    for palavra, vezes in contador.items():\n",
    "        print(palavra, ':', vezes)\n",
    "\n",
    "    return texto_inicial\n",
    "\n",
    "texto = conta_texto()\n",
    "print(f'Texto original: {texto}')\n"
   ]
  },
  {
   "cell_type": "markdown",
   "id": "7dc786ad",
   "metadata": {},
   "source": [
    "- Exercise 4\n",
    "  - Inverse Dictionary\n",
    "\n",
    "It turns out that the client has a very old survey stored in a dictionary, and they need the results reversed — meaning keys and values swapped. The keys and values in the original dictionary are unique; if this is not the case, the function should print a warning message."
   ]
  },
  {
   "cell_type": "code",
   "execution_count": 8,
   "id": "6646cf9b",
   "metadata": {},
   "outputs": [
    {
     "name": "stdout",
     "output_type": "stream",
     "text": [
      "{1: 'a', 2: 'b', 3: 'c'}\n",
      "Error: multiple keys for one value\n",
      "None\n"
     ]
    }
   ],
   "source": [
    "def dicionario_inverso(dicio):\n",
    "    d_inverso = {}\n",
    "    for key, value in dicio.items():\n",
    "        if value in d_inverso:\n",
    "            print(\"Error: multiple keys for one value\")\n",
    "            return None\n",
    "        d_inverso[value] = key\n",
    "    return d_inverso\n",
    "\n",
    "\n",
    "print(dicionario_inverso({'a': 1, 'b': 2, 'c': 3}))\n",
    "print(dicionario_inverso({'x': 'apple', 'y': 'banana', 'z': 'banana'}))\n"
   ]
  },
  {
   "cell_type": "markdown",
   "id": "a9d1788e",
   "metadata": {},
   "source": [
    "NIVEL 2\n",
    "- Exercise 1\n",
    "Inverse Dictionary with Duplicates\n",
    "\n",
    "Continuing with Exercise 4 from Level 1: the client forgot to mention an important detail — it turns out that the values in the original dictionary may be duplicated, and even more so, meaning that the swapped keys may have duplicates. In the previous exercise, you printed a warning message; now, in this case, the values of the resulting dictionary must be stored as a list. Keep in mind that if a value is unique, it should not be stored as a list."
   ]
  },
  {
   "cell_type": "code",
   "execution_count": 15,
   "id": "2c5e7b04",
   "metadata": {},
   "outputs": [
    {
     "name": "stdout",
     "output_type": "stream",
     "text": [
      "{1: 'a', 2: 'b', 3: 'c'}\n",
      "{'apple': 'x', 'banana': ['y', 'z']}\n"
     ]
    }
   ],
   "source": [
    "def dicionario_inverso_plus(dicio):\n",
    "    d_inverso_plus = {}\n",
    "    for k, v in dicio.items():\n",
    "        if v in d_inverso_plus:\n",
    "            if isinstance(d_inverso_plus[v], list):\n",
    "                d_inverso_plus[v].append(k)\n",
    "            else:\n",
    "                d_inverso_plus[v] = [d_inverso_plus[v], k]\n",
    "        else:\n",
    "            d_inverso_plus[v] = k\n",
    "    return d_inverso_plus\n",
    "\n",
    "\n",
    "print(dicionario_inverso_plus({'a': 1, 'b': 2, 'c': 3}))  \n",
    "print(dicionario_inverso_plus({'x': 'apple', 'y': 'banana', 'z': 'banana'}))  \n",
    "\n"
   ]
  },
  {
   "cell_type": "markdown",
   "id": "6dbde828",
   "metadata": {},
   "source": [
    "- Exercise 2\n",
    "Data Type Conversion\n",
    "\n",
    "The client receives a list of data and needs to generate two lists: the first containing all the elements that could be converted to floats, and the second containing the elements that could not be converted. Example of the list the client receives:\n",
    "['1.3', 'one', '1e10', 'seven', '3-1/2', ('2', 1, 1.4, 'not-a-number'), [1, 2, '3', '3.4']]"
   ]
  },
  {
   "cell_type": "code",
   "execution_count": 23,
   "id": "69ba2cfe",
   "metadata": {},
   "outputs": [
    {
     "name": "stdout",
     "output_type": "stream",
     "text": [
      "[1.3, 10000000000.0, 2.0, 1.0, 1.4, 1.0, 2.0, 3.0, 3.4]\n",
      "['one', 'seven', '3-1/2', 'not-a-number']\n"
     ]
    }
   ],
   "source": [
    "lista_cliente = ['1.3', 'one', '1e10', 'seven', '3-1/2', ('2', 1, 1.4, 'not-a-number'), [1, 2, '3', '3.4']]\n",
    "lista_limpa = []\n",
    "lista_floats = []\n",
    "lista_invalidos = []\n",
    "\n",
    "for e in lista_cliente:\n",
    "    if isinstance(e, (list, tuple)):\n",
    "        for c in e:\n",
    "            lista_limpa.append(c)\n",
    "    else:\n",
    "        lista_limpa.append(e)\n",
    "\n",
    "for e in lista_limpa:\n",
    "    try:\n",
    "        num = float(e)\n",
    "        lista_floats.append(num)\n",
    "    except:\n",
    "        lista_invalidos.append(e)\n",
    "\n",
    "print(lista_floats)\n",
    "print(lista_invalidos)\n"
   ]
  },
  {
   "cell_type": "code",
   "execution_count": 22,
   "id": "e2738b6c",
   "metadata": {},
   "outputs": [
    {
     "name": "stdout",
     "output_type": "stream",
     "text": [
      "([1.3, 10000000000.0, 2.0, 1.0, 1.4, 1.0, 2.0, 3.0, 3.4], ['one', 'seven', '3-1/2', 'not-a-number'])\n"
     ]
    }
   ],
   "source": [
    "def conversor(lista):\n",
    "    lista_limpa = []\n",
    "    lista_floats = []\n",
    "    lista_invalidos = [] \n",
    "    \n",
    "    for e in lista:\n",
    "        if isinstance(e, (list, tuple)):\n",
    "            for c in e:\n",
    "                lista_limpa.append(c)\n",
    "        else:\n",
    "            lista_limpa.append(e)\n",
    "\n",
    "    for e in lista_limpa:\n",
    "        try:\n",
    "            num = float(e)\n",
    "            lista_floats.append(num)\n",
    "        except:\n",
    "            lista_invalidos.append(e)\n",
    "    return lista_floats, lista_invalidos\n",
    "\n",
    "print(conversor(['1.3', 'one', '1e10', 'seven', '3-1/2', ('2', 1, 1.4, 'not-a-number'), [1, 2, '3', '3.4']]))\n"
   ]
  },
  {
   "cell_type": "markdown",
   "id": "4686aa84",
   "metadata": {},
   "source": [
    "NIVEL 3\n",
    "- Exercise 1\n",
    "Word Counter and Sorter from a Text\n",
    "\n",
    "The client was happy with the word counter, but now they want to read TXT files and calculate the frequency of each word, organized within standard dictionary entries according to the letter they start with — meaning, the keys must go from A to Z, and within each letter, words must also be sorted from A to Z. For example, for the file \"tu_me_quieres_blanca.txt,\" the expected output would be:"
   ]
  },
  {
   "cell_type": "code",
   "execution_count": null,
   "id": "9eb3c9da",
   "metadata": {},
   "outputs": [
    {
     "name": "stdout",
     "output_type": "stream",
     "text": [
      "A:\n",
      "  a: 3\n",
      "  agua: 1\n",
      "  al: 2\n",
      "  alba: 4\n",
      "  alcobas: 1\n",
      "  alimenta: 1\n",
      "  alma: 1\n",
      "  amarga: 1\n",
      "  azucena: 1\n",
      "B:\n",
      "  baco: 1\n",
      "  banquete: 1\n",
      "  bebe: 1\n",
      "  blanca: 3\n",
      "  boca: 1\n",
      "  bosques: 1\n",
      "  buen: 1\n",
      "C:\n",
      "  cabañas: 1\n",
      "  carnes: 2\n",
      "  casta: 3\n",
      "  cerrada: 1\n",
      "  con: 4\n",
      "  conservas: 1\n",
      "  copas: 1\n",
      "  corola: 1\n",
      "  corriste: 1\n",
      "  cuando: 2\n",
      "  cubierto: 1\n",
      "  cuerpo: 1\n",
      "  cuáles: 1\n",
      "D:\n",
      "  de: 8\n",
      "  dejaste: 1\n",
      "  del: 1\n",
      "  diga: 1\n",
      "  dios: 2\n",
      "  duerme: 1\n",
      "E:\n",
      "  el: 4\n",
      "  ellas: 1\n",
      "  en: 4\n",
      "  engaño: 1\n",
      "  enredada: 1\n",
      "  entonces: 1\n",
      "  escarcha: 1\n",
      "  espumas: 1\n",
      "  esqueleto: 1\n",
      "  estrago: 1\n",
      "F:\n",
      "  festejando: 1\n",
      "  filtrado: 1\n",
      "  frutos: 1\n",
      "H:\n",
      "  habla: 1\n",
      "  hacia: 1\n",
      "  haya: 1\n",
      "  hayas: 1\n",
      "  hermana: 1\n",
      "  hombre: 1\n",
      "  hubiste: 1\n",
      "  huye: 1\n",
      "I:\n",
      "  intacto: 1\n",
      "J:\n",
      "  jardines: 1\n",
      "L:\n",
      "  la: 3\n",
      "  labios: 1\n",
      "  las: 7\n",
      "  lo: 2\n",
      "  los: 4\n",
      "  luna: 1\n",
      "  lévate: 1\n",
      "  límpiate: 1\n",
      "M:\n",
      "  mano: 1\n",
      "  manos: 1\n",
      "  margarita: 1\n",
      "  me: 10\n",
      "  mi: 1\n",
      "  mieles: 1\n",
      "  milagros: 1\n",
      "  mojada: 1\n",
      "  montaña: 1\n",
      "  morados: 1\n",
      "N:\n",
      "  negros: 1\n",
      "  ni: 2\n",
      "  no: 1\n",
      "  nácar: 1\n",
      "  nívea: 2\n",
      "P:\n",
      "  perdone: 2\n",
      "  perfume: 1\n",
      "  por: 2\n",
      "  pretendes: 3\n",
      "  preténdeme: 3\n",
      "  puesto: 1\n",
      "  pájaros: 1\n",
      "  pámpanos: 1\n",
      "Q:\n",
      "  que: 6\n",
      "  quedó: 1\n",
      "  quieres: 6\n",
      "R:\n",
      "  rayo: 1\n",
      "  raíz: 1\n",
      "  renueva: 1\n",
      "  rocas: 1\n",
      "  rojo: 1\n",
      "S:\n",
      "  salitre: 1\n",
      "  se: 2\n",
      "  sea: 1\n",
      "  sean: 1\n",
      "  sobre: 2\n",
      "  sé: 1\n",
      "T:\n",
      "  te: 3\n",
      "  tejidos: 1\n",
      "  tenue: 1\n",
      "  tierra: 1\n",
      "  toca: 1\n",
      "  todas: 2\n",
      "  todavía: 1\n",
      "  tornadas: 1\n",
      "  tú: 8\n",
      "U:\n",
      "  un: 1\n",
      "  una: 1\n",
      "V:\n",
      "  vestido: 1\n",
      "  vete: 1\n",
      "  vive: 1\n",
      "Y:\n",
      "  y: 5\n"
     ]
    }
   ],
   "source": [
    "arquivo = r'C:\\Users\\Victor\\Desktop\\Especializacion_Datos\\tu_me_quieres_blanca.txt'\n",
    "\n",
    "with open(arquivo, 'r', encoding='utf-8') as file:\n",
    "    texto = file.read()\n",
    "\n",
    "pontuacao = \".,!¡?¿;:'/\\\"()[]{}-_'%$#@*+=&|\"\n",
    "texto = texto.lower().replace('\\n', ' ')\n",
    "texto_limpo = ''\n",
    "dicionario = {}\n",
    "dicionario_final = {}\n",
    "\n",
    "for c in texto:\n",
    "    if c not in pontuacao:\n",
    "        texto_limpo += c\n",
    "    else:\n",
    "        texto_limpo += ' '\n",
    "\n",
    "palavras = texto_limpo.split()\n",
    "\n",
    "for p in palavras:\n",
    "    if p in dicionario:\n",
    "        dicionario[p] += 1\n",
    "    else:\n",
    "        dicionario[p] = 1\n",
    "\n",
    "for p, n in sorted(dicionario.items()):\n",
    "    letra = p[0].upper()\n",
    "    if letra not in dicionario_final:\n",
    "        dicionario_final[letra] = {}\n",
    "    dicionario_final[letra][p] = n\n",
    "\n",
    "for l in sorted(dicionario_final.keys()):\n",
    "    print(f'{l}:')\n",
    "    for p in sorted(dicionario_final[l].keys()):\n",
    "        print(f'  {p}: {dicionario_final[l][p]}')\n",
    "\n"
   ]
  }
 ],
 "metadata": {
  "kernelspec": {
   "display_name": "myenv",
   "language": "python",
   "name": "python3"
  },
  "language_info": {
   "codemirror_mode": {
    "name": "ipython",
    "version": 3
   },
   "file_extension": ".py",
   "mimetype": "text/x-python",
   "name": "python",
   "nbconvert_exporter": "python",
   "pygments_lexer": "ipython3",
   "version": "3.10.13"
  }
 },
 "nbformat": 4,
 "nbformat_minor": 5
}
